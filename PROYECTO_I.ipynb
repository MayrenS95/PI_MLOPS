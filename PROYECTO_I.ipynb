{
 "cells": [
  {
   "cell_type": "markdown",
   "metadata": {},
   "source": [
    "<mark>LIMPIEZA DE DATOS (1 FASE)"
   ]
  },
  {
   "cell_type": "code",
   "execution_count": 2,
   "metadata": {},
   "outputs": [],
   "source": [
    "#Importamos librerias\n",
    "import pandas as pd\n",
    "import numpy as np"
   ]
  },
  {
   "cell_type": "code",
   "execution_count": 3,
   "metadata": {},
   "outputs": [],
   "source": [
    "#Convertimos datos en dataframe\n",
    "credits = pd.read_csv('credits.csv',encoding='UTF-8')"
   ]
  },
  {
   "cell_type": "code",
   "execution_count": 4,
   "metadata": {},
   "outputs": [
    {
     "name": "stderr",
     "output_type": "stream",
     "text": [
      "C:\\Users\\User\\AppData\\Local\\Temp\\ipykernel_11524\\218150687.py:2: DtypeWarning: Columns (10) have mixed types. Specify dtype option on import or set low_memory=False.\n",
      "  movies = pd.read_csv('movies_dataset.csv', encoding='UTF-8')\n"
     ]
    }
   ],
   "source": [
    "#Convertimos datos en dataframe\n",
    "movies = pd.read_csv('movies_dataset.csv', encoding='UTF-8')\n"
   ]
  },
  {
   "cell_type": "code",
   "execution_count": 5,
   "metadata": {},
   "outputs": [],
   "source": [
    "# estableciendo como 0 la cantidad maxima de columnas para visualizar todas\n",
    "pd.options.display.max_columns = 0\n"
   ]
  },
  {
   "cell_type": "code",
   "execution_count": 6,
   "metadata": {},
   "outputs": [],
   "source": [
    "# asignando la porción a trabajar del df\n",
    "belongs = pd.DataFrame(movies['belongs_to_collection'])"
   ]
  },
  {
   "cell_type": "code",
   "execution_count": 7,
   "metadata": {},
   "outputs": [],
   "source": [
    "#convirtiendo el tipo de dato a string\n",
    "belongs['belongs_to_collection'] = belongs['belongs_to_collection'].astype('string')"
   ]
  },
  {
   "cell_type": "code",
   "execution_count": 8,
   "metadata": {},
   "outputs": [],
   "source": [
    "#Separando el texto de la columna en varias columnas\n",
    "belongs = belongs['belongs_to_collection'].str.split(pat =',',expand = True)"
   ]
  },
  {
   "cell_type": "code",
   "execution_count": 9,
   "metadata": {},
   "outputs": [],
   "source": [
    "#Renombrando las columnas a Usar\n",
    "belongs = belongs.rename(columns = {0:'id_belongs',1:'name_belongs',2:'poster_path_belongs',3:'backdrop_path_belongs'})"
   ]
  },
  {
   "cell_type": "code",
   "execution_count": 10,
   "metadata": {},
   "outputs": [
    {
     "name": "stderr",
     "output_type": "stream",
     "text": [
      "C:\\Users\\User\\AppData\\Local\\Temp\\ipykernel_11524\\2639462021.py:3: FutureWarning: The default value of regex will change from True to False in a future version.\n",
      "  belongs['id_belongs'] = belongs['id_belongs'].str.replace(\"{'id':\",\"\")\n"
     ]
    }
   ],
   "source": [
    "#reeemplazando los caracteres del df\n",
    "\n",
    "belongs['id_belongs'] = belongs['id_belongs'].str.replace(\"{'id':\",\"\")\n",
    "belongs['name_belongs'] = belongs['name_belongs'].str.replace(\"'name':\",\"\")\n",
    "belongs['name_belongs'] = belongs['name_belongs'].str.replace(\"name:\",\"\")\n",
    "belongs['name_belongs'] = belongs['name_belongs'].str.replace(\"'\",\"\")"
   ]
  },
  {
   "cell_type": "code",
   "execution_count": 11,
   "metadata": {},
   "outputs": [],
   "source": [
    "#eliminando columnas 4 y 5\n",
    "belongs = belongs.drop([4,5], axis=1)"
   ]
  },
  {
   "cell_type": "code",
   "execution_count": 12,
   "metadata": {},
   "outputs": [],
   "source": [
    "#uniendo los data frames\n",
    "movies= pd.concat([movies, belongs], axis=1)\n",
    "movies = movies.drop(['belongs_to_collection'], axis= 1)"
   ]
  },
  {
   "cell_type": "code",
   "execution_count": 13,
   "metadata": {},
   "outputs": [],
   "source": [
    "# trabajando con companies\n",
    "product_companies = pd.DataFrame(movies['production_companies'])"
   ]
  },
  {
   "cell_type": "code",
   "execution_count": 14,
   "metadata": {},
   "outputs": [
    {
     "name": "stderr",
     "output_type": "stream",
     "text": [
      "C:\\Users\\User\\AppData\\Local\\Temp\\ipykernel_11524\\1769613496.py:7: FutureWarning: The default value of regex will change from True to False in a future version. In addition, single character regular expressions will *not* be treated as literal strings when regex=True.\n",
      "  product_companies['production_companies'] = product_companies['production_companies'].str.replace(i,\"\")\n"
     ]
    }
   ],
   "source": [
    "#reemplazando caracteres\n",
    "\n",
    "product_companies['production_companies'] = product_companies['production_companies'].astype('string')\n",
    "\n",
    "caracteres = \"'1234567890}{:[]\"\n",
    "for i in caracteres:\n",
    "    product_companies['production_companies'] = product_companies['production_companies'].str.replace(i,\"\")\n",
    "\n",
    "product_companies['production_companies'] = product_companies['production_companies'].str.replace(\"name\",\"\")\n",
    "product_companies['production_companies'] = product_companies['production_companies'].str.replace(\"id\",\"\")"
   ]
  },
  {
   "cell_type": "code",
   "execution_count": 15,
   "metadata": {},
   "outputs": [],
   "source": [
    "#Convirtiendo en lista\n",
    "product_companies = pd.Series(product_companies['production_companies']).str.replace('  ,  ','').str.split(',')"
   ]
  },
  {
   "cell_type": "code",
   "execution_count": 16,
   "metadata": {},
   "outputs": [],
   "source": [
    "#uniendo los dataframe\n",
    "movies = movies.drop(['production_companies'],axis=1)\n",
    "movies= pd.concat([movies,product_companies],axis=1)"
   ]
  },
  {
   "cell_type": "code",
   "execution_count": 17,
   "metadata": {},
   "outputs": [],
   "source": [
    "#convirtiendo en df  - str la columna genres\n",
    "genres = pd.DataFrame(movies['genres'])\n",
    "genres['genres'] = genres['genres'].astype('string')"
   ]
  },
  {
   "cell_type": "code",
   "execution_count": 18,
   "metadata": {},
   "outputs": [
    {
     "name": "stderr",
     "output_type": "stream",
     "text": [
      "C:\\Users\\User\\AppData\\Local\\Temp\\ipykernel_11524\\1353414443.py:4: FutureWarning: The default value of regex will change from True to False in a future version. In addition, single character regular expressions will *not* be treated as literal strings when regex=True.\n",
      "  genres['genres'] = genres['genres'].str.replace(i,\"\")\n"
     ]
    }
   ],
   "source": [
    "# reemplazando valores\n",
    "caracteres = \"'1234567890}{:[]\"\n",
    "for i in caracteres:\n",
    "    genres['genres'] = genres['genres'].str.replace(i,\"\")\n",
    "\n",
    "genres['genres'] = genres['genres'].str.replace(\"id , name\",\"\")"
   ]
  },
  {
   "cell_type": "code",
   "execution_count": 19,
   "metadata": {},
   "outputs": [],
   "source": [
    "#convirtiendo en lista\n",
    "genres = pd.Series(genres['genres']).str.split(',')"
   ]
  },
  {
   "cell_type": "code",
   "execution_count": 20,
   "metadata": {},
   "outputs": [],
   "source": [
    "#uniendo los dataframes\n",
    "movies = movies.drop(['genres'], axis=1)\n",
    "movies = pd.concat([movies,genres],axis=1)"
   ]
  },
  {
   "cell_type": "code",
   "execution_count": 21,
   "metadata": {},
   "outputs": [
    {
     "name": "stderr",
     "output_type": "stream",
     "text": [
      "C:\\Users\\User\\AppData\\Local\\Temp\\ipykernel_11524\\128553588.py:8: FutureWarning: The default value of regex will change from True to False in a future version. In addition, single character regular expressions will *not* be treated as literal strings when regex=True.\n",
      "  countries['production_countries'] = countries['production_countries'].str.replace(i,\"\")\n"
     ]
    }
   ],
   "source": [
    "#convirtiendo en df  - str la columna production_countries\n",
    "countries = pd.DataFrame(movies['production_countries'])\n",
    "countries['production_countries'] = countries['production_countries'].astype('string')\n",
    "\n",
    "# reemplazando valores\n",
    "caracteres = \"'1234567890}{:[]_\"\n",
    "for i in caracteres:\n",
    "    countries['production_countries'] = countries['production_countries'].str.replace(i,\"\")\n",
    "\n",
    "countries['production_countries'] = countries['production_countries'].str.replace(\"id , name\",\"\")\n",
    "countries['production_countries'] = countries['production_countries'].str.replace(\"iso\",\"\")\n",
    "\n",
    "countries['production_countries'] = countries['production_countries'].str.replace(\"name\",\"\")"
   ]
  },
  {
   "cell_type": "code",
   "execution_count": 22,
   "metadata": {},
   "outputs": [],
   "source": [
    "#creando lista con las abreviaturas de los paises\n",
    "lista_paises = ['AD,','AE,','AF,','AG,','AI,','AL,','AM,','AN,','GB,','AO,','AQ,','AR,','AS,','AT,','AU,','AW,','AZ,','BA,','BB,','BD,','BE,','BF,','BG,','BH,','BI,','BJ,','BM,','BN,','BO,','BR,','BT,','BS,','BV,','BW,','BY,','BZ,','CA,','CC,','CD,','CF,','CG,','CH,','CI,','CK,','CL,','CM,','CN,','CO,','CR,','CS,','CU,','CV,','CX,','CY,','CZ,','DE,','DJ,','DK,','DM,','DO,','DZ,','EC,','EE,','EG,','EH,','ER,','ES,','ET,','FI,','FJ,','FK,','FM,','FO,','FR,','GA,','GD,','GE,','GF,','GG,','GH,','GI,','GL,','GM,','GN,','GP,','GQ,','GR,','GS,','GT,','GU,','GW,','GY,','HK,','HM,','HN,','HR,','HT,','HU,','ID,','IE,','IL,','IM,','IN,','IO,','IQ,','IR,','IS,','IT,','JM,','JE,','JO,','JP,','KE,','KG,','KH,','KI,','KM,','KN,','KP,','KR,','KW,','KY,','KZ,','LA,','LB,','LC,','LI,','LK,','LR,','LS,','LT,','LU,','LV,','LY,','MA,','MC,','MD,','MG,','MK,','MH,','ML,','MM,','MN,','MO,','MP,','MQ,','MR,','MS,','MT,','MU,','MV,','MW,','MX,','MY,','MZ,','NA,','NC,','NE,','NF,','NG,','NI,','NL,','NO,','NP,','NR,','NT,','NU,','NZ,','OM,','PA,','PE,','PF,','PG,','PH,','PK,','PL,','PM,','PN,','PR,','PS,','PT,','PW,','PY,','QA,','RE,','RO,','RU,','RW,','SA,','SB,','SC,','SD,','SE,','SG,','SH,','SI,','SJ,','SK,','SL,','SM,','SN,','SO,','SR,','SU,','ST,','SV,','SY,','SZ,','TC,','TD,','TF,','TG,','TH,','TJ,','TK,','TM,','TN,','TO,','TP,','TR,','TT,','TV,','TW,','TZ,','UA,','UG,','UK,','UM,','US,','UY,','UZ,','VA,','VC,','VE,','VG,','VI,','VN,','VU,','WF,','WS,','YE,','YT,','YU,','ZA,','ZM,','ZR,','ZW,'\n",
    "]"
   ]
  },
  {
   "cell_type": "code",
   "execution_count": 23,
   "metadata": {},
   "outputs": [],
   "source": [
    "# reemplazando valores de abreviaturas paises\n",
    "for i in lista_paises:\n",
    "    countries['production_countries'] = countries['production_countries'].str.replace(i,\"\")"
   ]
  },
  {
   "cell_type": "code",
   "execution_count": 24,
   "metadata": {},
   "outputs": [],
   "source": [
    "#convirtiendo en lista\n",
    "countries = pd.Series(countries['production_countries'] ).str.split(',')"
   ]
  },
  {
   "cell_type": "code",
   "execution_count": 25,
   "metadata": {},
   "outputs": [],
   "source": [
    "#uniendo datframes\n",
    "movies = movies.drop(['production_countries'],axis=1) \n",
    "movies = pd.concat([movies, countries], axis=1)"
   ]
  },
  {
   "cell_type": "code",
   "execution_count": 26,
   "metadata": {},
   "outputs": [
    {
     "name": "stderr",
     "output_type": "stream",
     "text": [
      "C:\\Users\\User\\AppData\\Local\\Temp\\ipykernel_11524\\526402776.py:8: FutureWarning: The default value of regex will change from True to False in a future version. In addition, single character regular expressions will *not* be treated as literal strings when regex=True.\n",
      "  lenguages['spoken_languages']  = lenguages['spoken_languages'] .str.replace(i,\"\")\n"
     ]
    }
   ],
   "source": [
    "#convirtiendo en df  - str la columna languages\n",
    "lenguages = pd.DataFrame(movies['spoken_languages'])\n",
    "lenguages['spoken_languages'] = lenguages['spoken_languages'].astype('string')\n",
    "\n",
    "# reemplazando valores\n",
    "caracteres = \"'1234567890}{:[]_'\"\n",
    "for i in caracteres:\n",
    "    lenguages['spoken_languages']  = lenguages['spoken_languages'] .str.replace(i,\"\")\n",
    "\n",
    "lenguages['spoken_languages'] = lenguages['spoken_languages'].str.replace(\"iso\",\"\")\n",
    "\n",
    "lenguages['spoken_languages'] = lenguages['spoken_languages'].str.replace(\"name\",\"\")"
   ]
  },
  {
   "cell_type": "code",
   "execution_count": 27,
   "metadata": {},
   "outputs": [
    {
     "data": {
      "text/plain": [
       "0                      [en, English]\n",
       "1        [en, English, fr, Français]\n",
       "2                      [en, English]\n",
       "3                      [en, English]\n",
       "4                      [en, English]\n",
       "                    ...             \n",
       "45461                    [fa, فارسی]\n",
       "45462                         [tl, ]\n",
       "45463                  [en, English]\n",
       "45464                             []\n",
       "45465                  [en, English]\n",
       "Name: spoken_languages, Length: 45466, dtype: object"
      ]
     },
     "execution_count": 27,
     "metadata": {},
     "output_type": "execute_result"
    }
   ],
   "source": [
    "# convirtiendo en lista\n",
    "lenguages = pd.Series(lenguages['spoken_languages']).str.replace(' ', '').str.split(',')\n",
    "lenguages"
   ]
  },
  {
   "cell_type": "code",
   "execution_count": 28,
   "metadata": {},
   "outputs": [],
   "source": [
    "#iterando para seleccionar solo las iniciales del idioma\n",
    "for isl1 in range(len(lenguages)):\n",
    "    lista_df_spoken_languages = []\n",
    "    if type(lenguages[isl1]) == list:\n",
    "        for nsl1 in range(len(lenguages[isl1])):\n",
    "            if nsl1%2 == 0:\n",
    "                lista_df_spoken_languages.append(lenguages[isl1][nsl1])\n",
    "        lenguages[isl1] = lista_df_spoken_languages[::]"
   ]
  },
  {
   "cell_type": "code",
   "execution_count": 29,
   "metadata": {},
   "outputs": [],
   "source": [
    "#eliminando la columna spoken_languages del df original\n",
    "movies= movies.drop(['spoken_languages'], axis=1)"
   ]
  },
  {
   "cell_type": "code",
   "execution_count": 30,
   "metadata": {},
   "outputs": [],
   "source": [
    "#concatenando los df\n",
    "movies = pd.concat([movies,lenguages], axis=1)"
   ]
  },
  {
   "cell_type": "markdown",
   "metadata": {},
   "source": [
    "<mark>#Valores Nulos revenue y budget\n"
   ]
  },
  {
   "cell_type": "code",
   "execution_count": 31,
   "metadata": {},
   "outputs": [],
   "source": [
    "#sustituyendo los valores nulos por 0\n",
    "movies['revenue'] = movies['revenue'].fillna(0)\n",
    "movies['budget'] = movies['budget'].fillna(0)\n"
   ]
  },
  {
   "cell_type": "markdown",
   "metadata": {},
   "source": [
    "<mark>#valores nulos del campo release date deben eliminarse"
   ]
  },
  {
   "cell_type": "code",
   "execution_count": 32,
   "metadata": {},
   "outputs": [
    {
     "data": {
      "text/plain": [
       "False"
      ]
     },
     "execution_count": 32,
     "metadata": {},
     "output_type": "execute_result"
    }
   ],
   "source": [
    "#eliminando valores nulos\n",
    "movies = movies.dropna(subset=['release_date'])\n",
    "movies['release_date'].isnull().any()"
   ]
  },
  {
   "cell_type": "markdown",
   "metadata": {},
   "source": [
    "<mark>De haber fechas, deberán tener el formato AAAA-mm-dd, además deberán crear la columna release_year donde extraerán el año de la fecha de estreno."
   ]
  },
  {
   "cell_type": "code",
   "execution_count": 33,
   "metadata": {},
   "outputs": [],
   "source": [
    "#insertando una columna en df con el largo de release_date\n",
    "movies['len'] = movies['release_date'].str.len()"
   ]
  },
  {
   "cell_type": "code",
   "execution_count": 34,
   "metadata": {},
   "outputs": [],
   "source": [
    "#eliminando los datos de release_date con largo menor a 10\n",
    "movies.drop(movies[(movies['len'] < 10)].index, inplace=True)"
   ]
  },
  {
   "cell_type": "code",
   "execution_count": 35,
   "metadata": {},
   "outputs": [],
   "source": [
    "#convirtiendo budget a float\n",
    "movies['budget'] = movies['budget'].astype('float64')"
   ]
  },
  {
   "cell_type": "code",
   "execution_count": 36,
   "metadata": {},
   "outputs": [],
   "source": [
    "#importando libreria datetime\n",
    "from datetime import datetime, timedelta\n",
    "\n",
    "#dando formato a columna release_date como fecha\n",
    "movies['release_date'] = movies['release_date'].apply(lambda _: datetime.strptime(_,\"%Y-%m-%d\"))\n"
   ]
  },
  {
   "cell_type": "code",
   "execution_count": 37,
   "metadata": {},
   "outputs": [],
   "source": [
    "#insertando columan con año\n",
    "movies['Year'] = movies['release_date'].dt.year"
   ]
  },
  {
   "cell_type": "code",
   "execution_count": 38,
   "metadata": {},
   "outputs": [],
   "source": [
    "#calculando la columna return\n",
    "movies['return'] = movies['revenue'] / movies['budget']"
   ]
  },
  {
   "cell_type": "code",
   "execution_count": 39,
   "metadata": {},
   "outputs": [],
   "source": [
    "#reemplazando valores Nan\n",
    "movies['return'].replace(np.nan,0, inplace=True)"
   ]
  },
  {
   "cell_type": "code",
   "execution_count": 40,
   "metadata": {},
   "outputs": [],
   "source": [
    "#reemplazando valores inf\n",
    "movies['return'].replace(np.inf,0, inplace=True)"
   ]
  },
  {
   "cell_type": "markdown",
   "metadata": {},
   "source": [
    "<mark>Eliminar las columnas que no serán utilizadas, video,imdb_id,adult,original_title,poster_path y homepage."
   ]
  },
  {
   "cell_type": "code",
   "execution_count": 41,
   "metadata": {},
   "outputs": [],
   "source": [
    "#Eliminando columnas del df\n",
    "movies.drop(['video','imdb_id','adult','original_title','poster_path','homepage','len',\n",
    "             'poster_path_belongs','backdrop_path_belongs','id_belongs'],axis=1, inplace= True)\n"
   ]
  },
  {
   "cell_type": "code",
   "execution_count": 42,
   "metadata": {},
   "outputs": [],
   "source": [
    "#Ordenando columnas del df\n",
    "movies = movies.loc[:,['id',\n",
    "                                 'title',\n",
    "                                 'name_belongs',\n",
    "                                 'overview',\n",
    "                                 'genres',\n",
    "                                 'original_language',\n",
    "                                 'spoken_languages',\n",
    "                                 'popularity',\n",
    "                                 'release_date',\n",
    "                                 'Year',\n",
    "                                 'production_companies',\n",
    "                                 'production_countries',\n",
    "                                 'runtime',\n",
    "                                 'status',\n",
    "                                 'tagline',\n",
    "                                 'vote_average',\n",
    "                                 'vote_count',\n",
    "                                 'budget',\n",
    "                                 'revenue', \n",
    "                                 'return']]"
   ]
  },
  {
   "cell_type": "code",
   "execution_count": 43,
   "metadata": {},
   "outputs": [],
   "source": [
    "# cambiando el tipo de dato\n",
    "movies = movies.astype({'id':'int', 'popularity':'float', 'budget':'float'})"
   ]
  },
  {
   "cell_type": "code",
   "execution_count": 44,
   "metadata": {},
   "outputs": [],
   "source": [
    "df_final = movies.to_csv('df_final_movies.csv')"
   ]
  },
  {
   "cell_type": "markdown",
   "metadata": {},
   "source": [
    "<mark>FUNCIONES API"
   ]
  },
  {
   "cell_type": "markdown",
   "metadata": {},
   "source": [
    "def peliculas_idioma( Idioma: str ): Se ingresa un idioma (como están escritos en el dataset, no hay que traducirlos!). Debe devolver la cantidad de películas producidas en ese idioma.\n",
    "                    Ejemplo de retorno: X cantidad de películas fueron estrenadas en idioma"
   ]
  },
  {
   "cell_type": "code",
   "execution_count": null,
   "metadata": {},
   "outputs": [],
   "source": [
    "def peliculas_idioma(idioma: str):\n",
    "\n",
    "    \n",
    "\n",
    "    for i in movies['spoken_laguages']:\n",
    "        for x in movies['spoken_languages'][i]:\n",
    "\n",
    "\n",
    "Idioma = peliculas_idioma(input(\"ingrese el idioma:\"))\n"
   ]
  }
 ],
 "metadata": {
  "kernelspec": {
   "display_name": "Python 3",
   "language": "python",
   "name": "python3"
  },
  "language_info": {
   "codemirror_mode": {
    "name": "ipython",
    "version": 3
   },
   "file_extension": ".py",
   "mimetype": "text/x-python",
   "name": "python",
   "nbconvert_exporter": "python",
   "pygments_lexer": "ipython3",
   "version": "3.10.11"
  },
  "orig_nbformat": 4
 },
 "nbformat": 4,
 "nbformat_minor": 2
}
