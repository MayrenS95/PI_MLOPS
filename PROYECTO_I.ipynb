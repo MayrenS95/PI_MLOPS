{
 "cells": [
  {
   "cell_type": "markdown",
   "metadata": {},
   "source": [
    "<h1><center><strong>PROYECTO INDIVIDUAL #1</strong></center></h1>"
   ]
  },
  {
   "cell_type": "markdown",
   "metadata": {},
   "source": [
    "<h2 style=\"color:pink\"><center><strong>LIMPIEZA DE DATOS (1 FASE)</strong></h2>"
   ]
  },
  {
   "cell_type": "markdown",
   "metadata": {},
   "source": [
    "<h2 style=\"color:gray\"><strong>Trabajando con Movies"
   ]
  },
  {
   "cell_type": "code",
   "execution_count": 389,
   "metadata": {},
   "outputs": [],
   "source": [
    "#Importamos librerias\n",
    "import pandas as pd\n",
    "import numpy as np\n",
    "import ast"
   ]
  },
  {
   "cell_type": "code",
   "execution_count": 391,
   "metadata": {},
   "outputs": [
    {
     "name": "stderr",
     "output_type": "stream",
     "text": [
      "C:\\Users\\User\\AppData\\Local\\Temp\\ipykernel_11272\\218150687.py:2: DtypeWarning: Columns (10) have mixed types. Specify dtype option on import or set low_memory=False.\n",
      "  movies = pd.read_csv('movies_dataset.csv', encoding='UTF-8')\n"
     ]
    }
   ],
   "source": [
    "#Convertimos datos en dataframe\n",
    "movies = pd.read_csv('movies_dataset.csv', encoding='UTF-8')\n"
   ]
  },
  {
   "cell_type": "code",
   "execution_count": 392,
   "metadata": {},
   "outputs": [],
   "source": [
    "# estableciendo como 0 la cantidad maxima de columnas para visualizar todas\n",
    "pd.options.display.max_columns = 0\n"
   ]
  },
  {
   "cell_type": "code",
   "execution_count": 393,
   "metadata": {},
   "outputs": [],
   "source": [
    "# asignando la porción a trabajar del df\n",
    "belongs = pd.DataFrame(movies['belongs_to_collection'])"
   ]
  },
  {
   "cell_type": "code",
   "execution_count": 394,
   "metadata": {},
   "outputs": [],
   "source": [
    "#convirtiendo el tipo de dato a string\n",
    "belongs['belongs_to_collection'] = belongs['belongs_to_collection'].astype('string')"
   ]
  },
  {
   "cell_type": "code",
   "execution_count": 395,
   "metadata": {},
   "outputs": [],
   "source": [
    "#Separando el texto de la columna en varias columnas\n",
    "belongs = belongs['belongs_to_collection'].str.split(pat =',',expand = True)"
   ]
  },
  {
   "cell_type": "code",
   "execution_count": 396,
   "metadata": {},
   "outputs": [],
   "source": [
    "#Renombrando las columnas a Usar\n",
    "belongs = belongs.rename(columns = {0:'id_belongs',1:'name_belongs',2:'poster_path_belongs',3:'backdrop_path_belongs'})"
   ]
  },
  {
   "cell_type": "code",
   "execution_count": 397,
   "metadata": {},
   "outputs": [
    {
     "name": "stderr",
     "output_type": "stream",
     "text": [
      "C:\\Users\\User\\AppData\\Local\\Temp\\ipykernel_11272\\2639462021.py:3: FutureWarning: The default value of regex will change from True to False in a future version.\n",
      "  belongs['id_belongs'] = belongs['id_belongs'].str.replace(\"{'id':\",\"\")\n"
     ]
    }
   ],
   "source": [
    "#reeemplazando los caracteres del df\n",
    "\n",
    "belongs['id_belongs'] = belongs['id_belongs'].str.replace(\"{'id':\",\"\")\n",
    "belongs['name_belongs'] = belongs['name_belongs'].str.replace(\"'name':\",\"\")\n",
    "belongs['name_belongs'] = belongs['name_belongs'].str.replace(\"name:\",\"\")\n",
    "belongs['name_belongs'] = belongs['name_belongs'].str.replace(\"'\",\"\")"
   ]
  },
  {
   "cell_type": "code",
   "execution_count": 398,
   "metadata": {},
   "outputs": [],
   "source": [
    "#eliminando columnas 4 y 5\n",
    "belongs = belongs.drop([4,5], axis=1)"
   ]
  },
  {
   "cell_type": "code",
   "execution_count": 399,
   "metadata": {},
   "outputs": [],
   "source": [
    "#uniendo los data frames\n",
    "movies= pd.concat([movies, belongs], axis=1)\n",
    "movies = movies.drop(['belongs_to_collection'], axis= 1)"
   ]
  },
  {
   "cell_type": "code",
   "execution_count": 400,
   "metadata": {},
   "outputs": [],
   "source": [
    "# trabajando con companies\n",
    "product_companies = pd.DataFrame(movies['production_companies'])"
   ]
  },
  {
   "cell_type": "code",
   "execution_count": 401,
   "metadata": {},
   "outputs": [
    {
     "name": "stderr",
     "output_type": "stream",
     "text": [
      "C:\\Users\\User\\AppData\\Local\\Temp\\ipykernel_11272\\1769613496.py:7: FutureWarning: The default value of regex will change from True to False in a future version. In addition, single character regular expressions will *not* be treated as literal strings when regex=True.\n",
      "  product_companies['production_companies'] = product_companies['production_companies'].str.replace(i,\"\")\n"
     ]
    }
   ],
   "source": [
    "#reemplazando caracteres\n",
    "\n",
    "product_companies['production_companies'] = product_companies['production_companies'].astype('string')\n",
    "\n",
    "caracteres = \"'1234567890}{:[]\"\n",
    "for i in caracteres:\n",
    "    product_companies['production_companies'] = product_companies['production_companies'].str.replace(i,\"\")\n",
    "\n",
    "product_companies['production_companies'] = product_companies['production_companies'].str.replace(\"name\",\"\")\n",
    "product_companies['production_companies'] = product_companies['production_companies'].str.replace(\"id\",\"\")"
   ]
  },
  {
   "cell_type": "code",
   "execution_count": 402,
   "metadata": {},
   "outputs": [],
   "source": [
    "#Convirtiendo en lista\n",
    "product_companies = pd.Series(product_companies['production_companies']).str.replace('  ,  ','').str.split(',')"
   ]
  },
  {
   "cell_type": "code",
   "execution_count": 403,
   "metadata": {},
   "outputs": [],
   "source": [
    "#uniendo los dataframe\n",
    "movies = movies.drop(['production_companies'],axis=1)\n",
    "movies= pd.concat([movies,product_companies],axis=1)"
   ]
  },
  {
   "cell_type": "code",
   "execution_count": 404,
   "metadata": {},
   "outputs": [],
   "source": [
    "#convirtiendo en df  - str la columna genres\n",
    "genres = pd.DataFrame(movies['genres'])\n",
    "genres['genres'] = genres['genres'].astype('string')"
   ]
  },
  {
   "cell_type": "code",
   "execution_count": 405,
   "metadata": {},
   "outputs": [
    {
     "name": "stderr",
     "output_type": "stream",
     "text": [
      "C:\\Users\\User\\AppData\\Local\\Temp\\ipykernel_11272\\1353414443.py:4: FutureWarning: The default value of regex will change from True to False in a future version. In addition, single character regular expressions will *not* be treated as literal strings when regex=True.\n",
      "  genres['genres'] = genres['genres'].str.replace(i,\"\")\n"
     ]
    }
   ],
   "source": [
    "# reemplazando valores\n",
    "caracteres = \"'1234567890}{:[]\"\n",
    "for i in caracteres:\n",
    "    genres['genres'] = genres['genres'].str.replace(i,\"\")\n",
    "\n",
    "genres['genres'] = genres['genres'].str.replace(\"id , name\",\"\")"
   ]
  },
  {
   "cell_type": "code",
   "execution_count": 406,
   "metadata": {},
   "outputs": [],
   "source": [
    "#convirtiendo en lista\n",
    "genres = pd.Series(genres['genres']).str.split(',')"
   ]
  },
  {
   "cell_type": "code",
   "execution_count": 407,
   "metadata": {},
   "outputs": [],
   "source": [
    "#uniendo los dataframes\n",
    "movies = movies.drop(['genres'], axis=1)\n",
    "movies = pd.concat([movies,genres],axis=1)"
   ]
  },
  {
   "cell_type": "code",
   "execution_count": 408,
   "metadata": {},
   "outputs": [
    {
     "name": "stderr",
     "output_type": "stream",
     "text": [
      "C:\\Users\\User\\AppData\\Local\\Temp\\ipykernel_11272\\1790418061.py:8: FutureWarning: The default value of regex will change from True to False in a future version. In addition, single character regular expressions will *not* be treated as literal strings when regex=True.\n",
      "  countries['production_countries'] = countries['production_countries'].str.replace(i,\"\")\n"
     ]
    },
    {
     "data": {
      "text/plain": [
       "0        [ US,   United States of America]\n",
       "1        [ US,   United States of America]\n",
       "2        [ US,   United States of America]\n",
       "3        [ US,   United States of America]\n",
       "4        [ US,   United States of America]\n",
       "                       ...                \n",
       "45461                        [ IR,   Iran]\n",
       "45462                 [ PH,   Philippines]\n",
       "45463    [ US,   United States of America]\n",
       "45464                      [ RU,   Russia]\n",
       "45465              [ GB,   United Kingdom]\n",
       "Name: production_countries, Length: 45466, dtype: object"
      ]
     },
     "execution_count": 408,
     "metadata": {},
     "output_type": "execute_result"
    }
   ],
   "source": [
    "#convirtiendo en df  - str la columna production_countries\n",
    "countries = pd.DataFrame(movies['production_countries'])\n",
    "countries['production_countries'] = countries['production_countries'].astype('string')\n",
    "\n",
    "# reemplazando valores\n",
    "caracteres = \"'1234567890}{:[]_\"\n",
    "for i in caracteres:\n",
    "    countries['production_countries'] = countries['production_countries'].str.replace(i,\"\")\n",
    "\n",
    "countries['production_countries'] = countries['production_countries'].str.replace(\"id , name\",\"\")\n",
    "countries['production_countries'] = countries['production_countries'].str.replace(\"iso\",\"\")\n",
    "\n",
    "countries['production_countries'] = countries['production_countries'].str.replace(\"name\",\"\")\n",
    "countries['production_countries'] = countries['production_countries'].str.split(',')\n",
    "countries['production_countries']"
   ]
  },
  {
   "cell_type": "code",
   "execution_count": 409,
   "metadata": {},
   "outputs": [],
   "source": [
    "#iterando para seleccionar solo las iniciales del pais\n",
    "for isl1 in range(len(countries['production_countries'])):\n",
    "    lista_df_paises = []\n",
    "    if type(countries['production_countries'][isl1]) == list:\n",
    "        for nsl1 in range(len(countries['production_countries'][isl1])):\n",
    "            if nsl1%2 == 0:\n",
    "                lista_df_paises.append(countries['production_countries'][isl1][nsl1])\n",
    "        countries['production_countries'][isl1] = lista_df_paises[::]"
   ]
  },
  {
   "cell_type": "code",
   "execution_count": 410,
   "metadata": {},
   "outputs": [
    {
     "data": {
      "text/plain": [
       "0        [ US]\n",
       "1        [ US]\n",
       "2        [ US]\n",
       "3        [ US]\n",
       "4        [ US]\n",
       "         ...  \n",
       "45461    [ IR]\n",
       "45462    [ PH]\n",
       "45463    [ US]\n",
       "45464    [ RU]\n",
       "45465    [ GB]\n",
       "Name: production_countries, Length: 45466, dtype: object"
      ]
     },
     "execution_count": 410,
     "metadata": {},
     "output_type": "execute_result"
    }
   ],
   "source": [
    "countries['production_countries']"
   ]
  },
  {
   "cell_type": "code",
   "execution_count": 411,
   "metadata": {},
   "outputs": [],
   "source": [
    "#uniendo datframes\n",
    "movies = movies.drop(['production_countries'],axis=1) \n",
    "movies = pd.concat([movies, countries], axis=1)"
   ]
  },
  {
   "cell_type": "code",
   "execution_count": 412,
   "metadata": {},
   "outputs": [
    {
     "name": "stderr",
     "output_type": "stream",
     "text": [
      "C:\\Users\\User\\AppData\\Local\\Temp\\ipykernel_11272\\526402776.py:8: FutureWarning: The default value of regex will change from True to False in a future version. In addition, single character regular expressions will *not* be treated as literal strings when regex=True.\n",
      "  lenguages['spoken_languages']  = lenguages['spoken_languages'] .str.replace(i,\"\")\n"
     ]
    }
   ],
   "source": [
    "#convirtiendo en df  - str la columna languages\n",
    "lenguages = pd.DataFrame(movies['spoken_languages'])\n",
    "lenguages['spoken_languages'] = lenguages['spoken_languages'].astype('string')\n",
    "\n",
    "# reemplazando valores\n",
    "caracteres = \"'1234567890}{:[]_'\"\n",
    "for i in caracteres:\n",
    "    lenguages['spoken_languages']  = lenguages['spoken_languages'] .str.replace(i,\"\")\n",
    "\n",
    "lenguages['spoken_languages'] = lenguages['spoken_languages'].str.replace(\"iso\",\"\")\n",
    "\n",
    "lenguages['spoken_languages'] = lenguages['spoken_languages'].str.replace(\"name\",\"\")"
   ]
  },
  {
   "cell_type": "code",
   "execution_count": 413,
   "metadata": {},
   "outputs": [
    {
     "data": {
      "text/plain": [
       "0                      [en, English]\n",
       "1        [en, English, fr, Français]\n",
       "2                      [en, English]\n",
       "3                      [en, English]\n",
       "4                      [en, English]\n",
       "                    ...             \n",
       "45461                    [fa, فارسی]\n",
       "45462                         [tl, ]\n",
       "45463                  [en, English]\n",
       "45464                             []\n",
       "45465                  [en, English]\n",
       "Name: spoken_languages, Length: 45466, dtype: object"
      ]
     },
     "execution_count": 413,
     "metadata": {},
     "output_type": "execute_result"
    }
   ],
   "source": [
    "# convirtiendo en lista\n",
    "lenguages = pd.Series(lenguages['spoken_languages']).str.replace(' ', '').str.split(',')\n",
    "lenguages"
   ]
  },
  {
   "cell_type": "code",
   "execution_count": 414,
   "metadata": {},
   "outputs": [],
   "source": [
    "#iterando para seleccionar solo las iniciales del idioma\n",
    "for isl1 in range(len(lenguages)):\n",
    "    lista_df_spoken_languages = []\n",
    "    if type(lenguages[isl1]) == list:\n",
    "        for nsl1 in range(len(lenguages[isl1])):\n",
    "            if nsl1%2 == 0:\n",
    "                lista_df_spoken_languages.append(lenguages[isl1][nsl1])\n",
    "        lenguages[isl1] = lista_df_spoken_languages[::]"
   ]
  },
  {
   "cell_type": "code",
   "execution_count": 415,
   "metadata": {},
   "outputs": [],
   "source": [
    "#eliminando la columna spoken_languages del df original\n",
    "movies= movies.drop(['spoken_languages'], axis=1)"
   ]
  },
  {
   "cell_type": "code",
   "execution_count": 416,
   "metadata": {},
   "outputs": [],
   "source": [
    "#concatenando los df\n",
    "movies = pd.concat([movies,lenguages], axis=1)"
   ]
  },
  {
   "cell_type": "markdown",
   "metadata": {},
   "source": [
    "<h2 style=\"color:pink\"><center><strong>#Valores Nulos revenue y budget\n"
   ]
  },
  {
   "cell_type": "code",
   "execution_count": 417,
   "metadata": {},
   "outputs": [],
   "source": [
    "#sustituyendo los valores nulos por 0\n",
    "movies['revenue'] = movies['revenue'].fillna(0)\n",
    "movies['budget'] = movies['budget'].fillna(0)\n"
   ]
  },
  {
   "cell_type": "markdown",
   "metadata": {},
   "source": [
    "<h2 style=\"color:pink\"><center><strong>#Valores Nulos del Campo Release Date -- deben eliminarse"
   ]
  },
  {
   "cell_type": "code",
   "execution_count": 418,
   "metadata": {},
   "outputs": [
    {
     "data": {
      "text/plain": [
       "False"
      ]
     },
     "execution_count": 418,
     "metadata": {},
     "output_type": "execute_result"
    }
   ],
   "source": [
    "#eliminando valores nulos\n",
    "movies = movies.dropna(subset=['release_date'])\n",
    "movies['release_date'].isnull().any()"
   ]
  },
  {
   "cell_type": "markdown",
   "metadata": {},
   "source": [
    "<h2 style=\"color:pink\"><center><strong>De haber fechas, deberán tener el formato AAAA-mm-dd, además deberán crear la columna release_year donde extraerán el año de la fecha de estreno."
   ]
  },
  {
   "cell_type": "code",
   "execution_count": 419,
   "metadata": {},
   "outputs": [],
   "source": [
    "#insertando una columna en df con el largo de release_date\n",
    "movies['len'] = movies['release_date'].str.len()"
   ]
  },
  {
   "cell_type": "code",
   "execution_count": 420,
   "metadata": {},
   "outputs": [],
   "source": [
    "#eliminando los datos de release_date con largo menor a 10\n",
    "movies.drop(movies[(movies['len'] < 10)].index, inplace=True)"
   ]
  },
  {
   "cell_type": "code",
   "execution_count": 421,
   "metadata": {},
   "outputs": [],
   "source": [
    "#convirtiendo budget a float\n",
    "movies['budget'] = movies['budget'].astype('float64')"
   ]
  },
  {
   "cell_type": "code",
   "execution_count": 422,
   "metadata": {},
   "outputs": [],
   "source": [
    "#importando libreria datetime\n",
    "from datetime import datetime, timedelta\n",
    "\n",
    "#dando formato a columna release_date como fecha\n",
    "movies['release_date'] = movies['release_date'].apply(lambda _: datetime.strptime(_,\"%Y-%m-%d\"))\n"
   ]
  },
  {
   "cell_type": "code",
   "execution_count": 423,
   "metadata": {},
   "outputs": [],
   "source": [
    "#insertando columan con año\n",
    "movies['Year'] = movies['release_date'].dt.year"
   ]
  },
  {
   "cell_type": "code",
   "execution_count": 424,
   "metadata": {},
   "outputs": [],
   "source": [
    "#calculando la columna return\n",
    "movies['return'] = movies['revenue'] / movies['budget']"
   ]
  },
  {
   "cell_type": "code",
   "execution_count": 425,
   "metadata": {},
   "outputs": [],
   "source": [
    "#reemplazando valores Nan\n",
    "movies['return'].replace(np.nan,0, inplace=True)"
   ]
  },
  {
   "cell_type": "code",
   "execution_count": 426,
   "metadata": {},
   "outputs": [],
   "source": [
    "#reemplazando valores inf\n",
    "movies['return'].replace(np.inf,0, inplace=True)"
   ]
  },
  {
   "cell_type": "markdown",
   "metadata": {},
   "source": [
    "<h2 style=\"color:pink\"><center><strong>Eliminar las columnas que no serán utilizadas, video,imdb_id,adult,original_title,poster_path y homepage."
   ]
  },
  {
   "cell_type": "code",
   "execution_count": 427,
   "metadata": {},
   "outputs": [],
   "source": [
    "#Eliminando columnas del df\n",
    "movies.drop(['video','imdb_id','adult','original_title','poster_path','homepage','len',\n",
    "             'poster_path_belongs','backdrop_path_belongs','id_belongs'],axis=1, inplace= True)\n"
   ]
  },
  {
   "cell_type": "code",
   "execution_count": 428,
   "metadata": {},
   "outputs": [],
   "source": [
    "#Ordenando columnas del df\n",
    "movies = movies.loc[:,['id',\n",
    "                                 'title',\n",
    "                                 'name_belongs',\n",
    "                                 'overview',\n",
    "                                 'genres',\n",
    "                                 'original_language',\n",
    "                                 'spoken_languages',\n",
    "                                 'popularity',\n",
    "                                 'release_date',\n",
    "                                 'Year',\n",
    "                                 'production_companies',\n",
    "                                 'production_countries',\n",
    "                                 'runtime',\n",
    "                                 'status',\n",
    "                                 'tagline',\n",
    "                                 'vote_average',\n",
    "                                 'vote_count',\n",
    "                                 'budget',\n",
    "                                 'revenue', \n",
    "                                 'return']]"
   ]
  },
  {
   "cell_type": "code",
   "execution_count": 429,
   "metadata": {},
   "outputs": [],
   "source": [
    "# cambiando el tipo de dato\n",
    "movies = movies.astype({'id':'int', 'popularity':'float', 'budget':'float'})"
   ]
  },
  {
   "cell_type": "markdown",
   "metadata": {},
   "source": [
    "<h2 style=\"color:gray\"><strong>Trabajando con credits"
   ]
  },
  {
   "cell_type": "code",
   "execution_count": null,
   "metadata": {},
   "outputs": [],
   "source": [
    "#Convertimos datos en dataframe\n",
    "credits = pd.read_csv('credits.csv',encoding='UTF-8')"
   ]
  },
  {
   "cell_type": "code",
   "execution_count": 430,
   "metadata": {},
   "outputs": [],
   "source": [
    "#convirtiendo a tipo lista la columnas crew\n",
    "credits['crew'] = credits['crew'].apply(ast.literal_eval)"
   ]
  },
  {
   "cell_type": "code",
   "execution_count": 431,
   "metadata": {},
   "outputs": [],
   "source": [
    "#separando solo job y name\n",
    "credits_job =  credits.explode('crew')['crew'].apply(pd.Series)[['job', 'name']]"
   ]
  },
  {
   "cell_type": "code",
   "execution_count": 432,
   "metadata": {},
   "outputs": [],
   "source": [
    "#uniendo la columna id del df credits al credits_job\n",
    "credits_job['id'] = credits['id']"
   ]
  },
  {
   "cell_type": "code",
   "execution_count": 433,
   "metadata": {},
   "outputs": [],
   "source": [
    "#filtrando solo por el tipo \"Director\"\n",
    "credits_director = credits_job[credits_job['job'] == 'Director']"
   ]
  },
  {
   "cell_type": "code",
   "execution_count": 434,
   "metadata": {},
   "outputs": [],
   "source": [
    "#convirtiendo todo en lista, agrupando\n",
    "credits_director = credits_director.groupby('id')['name'].apply(lambda x: list(x)).to_frame().reset_index()"
   ]
  },
  {
   "cell_type": "code",
   "execution_count": 435,
   "metadata": {},
   "outputs": [
    {
     "data": {
      "text/html": [
       "<div>\n",
       "<style scoped>\n",
       "    .dataframe tbody tr th:only-of-type {\n",
       "        vertical-align: middle;\n",
       "    }\n",
       "\n",
       "    .dataframe tbody tr th {\n",
       "        vertical-align: top;\n",
       "    }\n",
       "\n",
       "    .dataframe thead th {\n",
       "        text-align: right;\n",
       "    }\n",
       "</style>\n",
       "<table border=\"1\" class=\"dataframe\">\n",
       "  <thead>\n",
       "    <tr style=\"text-align: right;\">\n",
       "      <th></th>\n",
       "      <th>id</th>\n",
       "      <th>title</th>\n",
       "      <th>name_belongs</th>\n",
       "      <th>overview</th>\n",
       "      <th>genres</th>\n",
       "      <th>original_language</th>\n",
       "      <th>spoken_languages</th>\n",
       "      <th>popularity</th>\n",
       "      <th>release_date</th>\n",
       "      <th>Year</th>\n",
       "      <th>production_companies</th>\n",
       "      <th>production_countries</th>\n",
       "      <th>runtime</th>\n",
       "      <th>status</th>\n",
       "      <th>tagline</th>\n",
       "      <th>vote_average</th>\n",
       "      <th>vote_count</th>\n",
       "      <th>budget</th>\n",
       "      <th>revenue</th>\n",
       "      <th>return</th>\n",
       "      <th>name</th>\n",
       "    </tr>\n",
       "  </thead>\n",
       "  <tbody>\n",
       "    <tr>\n",
       "      <th>0</th>\n",
       "      <td>862</td>\n",
       "      <td>Toy Story</td>\n",
       "      <td>Toy Story Collection</td>\n",
       "      <td>Led by Woody, Andy's toys live happily in his ...</td>\n",
       "      <td>[ Animation,   Comedy,   Family]</td>\n",
       "      <td>en</td>\n",
       "      <td>[en]</td>\n",
       "      <td>21.946943</td>\n",
       "      <td>1995-10-30</td>\n",
       "      <td>1995</td>\n",
       "      <td>[ Pixar Animation Studios,   ]</td>\n",
       "      <td>[ US]</td>\n",
       "      <td>81.0</td>\n",
       "      <td>Released</td>\n",
       "      <td>NaN</td>\n",
       "      <td>7.7</td>\n",
       "      <td>5415.0</td>\n",
       "      <td>30000000.0</td>\n",
       "      <td>373554033.0</td>\n",
       "      <td>12.451801</td>\n",
       "      <td>[John Lasseter]</td>\n",
       "    </tr>\n",
       "    <tr>\n",
       "      <th>1</th>\n",
       "      <td>8844</td>\n",
       "      <td>Jumanji</td>\n",
       "      <td>&lt;NA&gt;</td>\n",
       "      <td>When siblings Judy and Peter discover an encha...</td>\n",
       "      <td>[ Adventure,   Fantasy,   Family]</td>\n",
       "      <td>en</td>\n",
       "      <td>[en, fr]</td>\n",
       "      <td>17.015539</td>\n",
       "      <td>1995-12-15</td>\n",
       "      <td>1995</td>\n",
       "      <td>[ TriStar Pictures, Teitler Film, Interscope C...</td>\n",
       "      <td>[ US]</td>\n",
       "      <td>104.0</td>\n",
       "      <td>Released</td>\n",
       "      <td>Roll the dice and unleash the excitement!</td>\n",
       "      <td>6.9</td>\n",
       "      <td>2413.0</td>\n",
       "      <td>65000000.0</td>\n",
       "      <td>262797249.0</td>\n",
       "      <td>4.043035</td>\n",
       "      <td>[Joe Johnston]</td>\n",
       "    </tr>\n",
       "    <tr>\n",
       "      <th>2</th>\n",
       "      <td>15602</td>\n",
       "      <td>Grumpier Old Men</td>\n",
       "      <td>Grumpy Old Men Collection</td>\n",
       "      <td>A family wedding reignites the ancient feud be...</td>\n",
       "      <td>[ Romance,   Comedy]</td>\n",
       "      <td>en</td>\n",
       "      <td>[en]</td>\n",
       "      <td>11.712900</td>\n",
       "      <td>1995-12-22</td>\n",
       "      <td>1995</td>\n",
       "      <td>[ Warner Bros., Lancaster Gate,   ]</td>\n",
       "      <td>[ US]</td>\n",
       "      <td>101.0</td>\n",
       "      <td>Released</td>\n",
       "      <td>Still Yelling. Still Fighting. Still Ready for...</td>\n",
       "      <td>6.5</td>\n",
       "      <td>92.0</td>\n",
       "      <td>0.0</td>\n",
       "      <td>0.0</td>\n",
       "      <td>0.000000</td>\n",
       "      <td>[Howard Deutch]</td>\n",
       "    </tr>\n",
       "    <tr>\n",
       "      <th>3</th>\n",
       "      <td>31357</td>\n",
       "      <td>Waiting to Exhale</td>\n",
       "      <td>&lt;NA&gt;</td>\n",
       "      <td>Cheated on, mistreated and stepped on, the wom...</td>\n",
       "      <td>[ Comedy,   Drama,   Romance]</td>\n",
       "      <td>en</td>\n",
       "      <td>[en]</td>\n",
       "      <td>3.859495</td>\n",
       "      <td>1995-12-22</td>\n",
       "      <td>1995</td>\n",
       "      <td>[ Twentieth Century Fox Film Corporation,   ]</td>\n",
       "      <td>[ US]</td>\n",
       "      <td>127.0</td>\n",
       "      <td>Released</td>\n",
       "      <td>Friends are the people who let you be yourself...</td>\n",
       "      <td>6.1</td>\n",
       "      <td>34.0</td>\n",
       "      <td>16000000.0</td>\n",
       "      <td>81452156.0</td>\n",
       "      <td>5.090760</td>\n",
       "      <td>[Forest Whitaker]</td>\n",
       "    </tr>\n",
       "    <tr>\n",
       "      <th>4</th>\n",
       "      <td>11862</td>\n",
       "      <td>Father of the Bride Part II</td>\n",
       "      <td>Father of the Bride Collection</td>\n",
       "      <td>Just when George Banks has recovered from his ...</td>\n",
       "      <td>[ Comedy]</td>\n",
       "      <td>en</td>\n",
       "      <td>[en]</td>\n",
       "      <td>8.387519</td>\n",
       "      <td>1995-02-10</td>\n",
       "      <td>1995</td>\n",
       "      <td>[ Sandollar Productions, Touchstone Pictures,   ]</td>\n",
       "      <td>[ US]</td>\n",
       "      <td>106.0</td>\n",
       "      <td>Released</td>\n",
       "      <td>Just When His World Is Back To Normal... He's ...</td>\n",
       "      <td>5.7</td>\n",
       "      <td>173.0</td>\n",
       "      <td>0.0</td>\n",
       "      <td>76578911.0</td>\n",
       "      <td>0.000000</td>\n",
       "      <td>[Charles Shyer]</td>\n",
       "    </tr>\n",
       "    <tr>\n",
       "      <th>...</th>\n",
       "      <td>...</td>\n",
       "      <td>...</td>\n",
       "      <td>...</td>\n",
       "      <td>...</td>\n",
       "      <td>...</td>\n",
       "      <td>...</td>\n",
       "      <td>...</td>\n",
       "      <td>...</td>\n",
       "      <td>...</td>\n",
       "      <td>...</td>\n",
       "      <td>...</td>\n",
       "      <td>...</td>\n",
       "      <td>...</td>\n",
       "      <td>...</td>\n",
       "      <td>...</td>\n",
       "      <td>...</td>\n",
       "      <td>...</td>\n",
       "      <td>...</td>\n",
       "      <td>...</td>\n",
       "      <td>...</td>\n",
       "      <td>...</td>\n",
       "    </tr>\n",
       "    <tr>\n",
       "      <th>45371</th>\n",
       "      <td>30840</td>\n",
       "      <td>Robin Hood</td>\n",
       "      <td>&lt;NA&gt;</td>\n",
       "      <td>Yet another version of the classic epic, with ...</td>\n",
       "      <td>[ Drama,   Action,   Romance]</td>\n",
       "      <td>en</td>\n",
       "      <td>[en]</td>\n",
       "      <td>5.683753</td>\n",
       "      <td>1991-05-13</td>\n",
       "      <td>1991</td>\n",
       "      <td>[ Westdeutscher Rundfunk (WDR), Working Title ...</td>\n",
       "      <td>[ CA,   DE,   GB,   US]</td>\n",
       "      <td>104.0</td>\n",
       "      <td>Released</td>\n",
       "      <td>NaN</td>\n",
       "      <td>5.7</td>\n",
       "      <td>26.0</td>\n",
       "      <td>0.0</td>\n",
       "      <td>0.0</td>\n",
       "      <td>0.000000</td>\n",
       "      <td>[John Irvin]</td>\n",
       "    </tr>\n",
       "    <tr>\n",
       "      <th>45372</th>\n",
       "      <td>111109</td>\n",
       "      <td>Century of Birthing</td>\n",
       "      <td>&lt;NA&gt;</td>\n",
       "      <td>An artist struggles to finish his work while a...</td>\n",
       "      <td>[ Drama]</td>\n",
       "      <td>tl</td>\n",
       "      <td>[tl]</td>\n",
       "      <td>0.178241</td>\n",
       "      <td>2011-11-17</td>\n",
       "      <td>2011</td>\n",
       "      <td>[ Sine Olivia,   ]</td>\n",
       "      <td>[ PH]</td>\n",
       "      <td>360.0</td>\n",
       "      <td>Released</td>\n",
       "      <td>NaN</td>\n",
       "      <td>9.0</td>\n",
       "      <td>3.0</td>\n",
       "      <td>0.0</td>\n",
       "      <td>0.0</td>\n",
       "      <td>0.000000</td>\n",
       "      <td>[Lav Diaz]</td>\n",
       "    </tr>\n",
       "    <tr>\n",
       "      <th>45373</th>\n",
       "      <td>67758</td>\n",
       "      <td>Betrayal</td>\n",
       "      <td>&lt;NA&gt;</td>\n",
       "      <td>When one of her hits goes wrong, a professiona...</td>\n",
       "      <td>[ Action,   Drama,   Thriller]</td>\n",
       "      <td>en</td>\n",
       "      <td>[en]</td>\n",
       "      <td>0.903007</td>\n",
       "      <td>2003-08-01</td>\n",
       "      <td>2003</td>\n",
       "      <td>[ American World Pictures,   ]</td>\n",
       "      <td>[ US]</td>\n",
       "      <td>90.0</td>\n",
       "      <td>Released</td>\n",
       "      <td>A deadly game of wits.</td>\n",
       "      <td>3.8</td>\n",
       "      <td>6.0</td>\n",
       "      <td>0.0</td>\n",
       "      <td>0.0</td>\n",
       "      <td>0.000000</td>\n",
       "      <td>[Mark L. Lester]</td>\n",
       "    </tr>\n",
       "    <tr>\n",
       "      <th>45374</th>\n",
       "      <td>227506</td>\n",
       "      <td>Satan Triumphant</td>\n",
       "      <td>&lt;NA&gt;</td>\n",
       "      <td>In a small town live two brothers, one a minis...</td>\n",
       "      <td>[]</td>\n",
       "      <td>en</td>\n",
       "      <td>[]</td>\n",
       "      <td>0.003503</td>\n",
       "      <td>1917-10-21</td>\n",
       "      <td>1917</td>\n",
       "      <td>[ Yermoliev,   ]</td>\n",
       "      <td>[ RU]</td>\n",
       "      <td>87.0</td>\n",
       "      <td>Released</td>\n",
       "      <td>NaN</td>\n",
       "      <td>0.0</td>\n",
       "      <td>0.0</td>\n",
       "      <td>0.0</td>\n",
       "      <td>0.0</td>\n",
       "      <td>0.000000</td>\n",
       "      <td>[Yakov Protazanov]</td>\n",
       "    </tr>\n",
       "    <tr>\n",
       "      <th>45375</th>\n",
       "      <td>461257</td>\n",
       "      <td>Queerama</td>\n",
       "      <td>&lt;NA&gt;</td>\n",
       "      <td>50 years after decriminalisation of homosexual...</td>\n",
       "      <td>[]</td>\n",
       "      <td>en</td>\n",
       "      <td>[en]</td>\n",
       "      <td>0.163015</td>\n",
       "      <td>2017-06-09</td>\n",
       "      <td>2017</td>\n",
       "      <td>[]</td>\n",
       "      <td>[ GB]</td>\n",
       "      <td>75.0</td>\n",
       "      <td>Released</td>\n",
       "      <td>NaN</td>\n",
       "      <td>0.0</td>\n",
       "      <td>0.0</td>\n",
       "      <td>0.0</td>\n",
       "      <td>0.0</td>\n",
       "      <td>0.000000</td>\n",
       "      <td>[Daisy Asquith]</td>\n",
       "    </tr>\n",
       "  </tbody>\n",
       "</table>\n",
       "<p>45376 rows × 21 columns</p>\n",
       "</div>"
      ],
      "text/plain": [
       "           id                        title  ...     return                name\n",
       "0         862                    Toy Story  ...  12.451801     [John Lasseter]\n",
       "1        8844                      Jumanji  ...   4.043035      [Joe Johnston]\n",
       "2       15602             Grumpier Old Men  ...   0.000000     [Howard Deutch]\n",
       "3       31357            Waiting to Exhale  ...   5.090760   [Forest Whitaker]\n",
       "4       11862  Father of the Bride Part II  ...   0.000000     [Charles Shyer]\n",
       "...       ...                          ...  ...        ...                 ...\n",
       "45371   30840                   Robin Hood  ...   0.000000        [John Irvin]\n",
       "45372  111109          Century of Birthing  ...   0.000000          [Lav Diaz]\n",
       "45373   67758                     Betrayal  ...   0.000000    [Mark L. Lester]\n",
       "45374  227506             Satan Triumphant  ...   0.000000  [Yakov Protazanov]\n",
       "45375  461257                     Queerama  ...   0.000000     [Daisy Asquith]\n",
       "\n",
       "[45376 rows x 21 columns]"
      ]
     },
     "execution_count": 435,
     "metadata": {},
     "output_type": "execute_result"
    }
   ],
   "source": [
    "#Uniendo los dataframes movies y director\n",
    "df_final= pd.merge(movies, credits_director, how='left' , on='id')\n",
    "df_final"
   ]
  },
  {
   "cell_type": "code",
   "execution_count": 436,
   "metadata": {},
   "outputs": [],
   "source": [
    "#generando un dataset final\n",
    "df_final.to_csv('df_final_movies_.csv')"
   ]
  }
 ],
 "metadata": {
  "kernelspec": {
   "display_name": "Python 3",
   "language": "python",
   "name": "python3"
  },
  "language_info": {
   "codemirror_mode": {
    "name": "ipython",
    "version": 3
   },
   "file_extension": ".py",
   "mimetype": "text/x-python",
   "name": "python",
   "nbconvert_exporter": "python",
   "pygments_lexer": "ipython3",
   "version": "3.10.11"
  },
  "orig_nbformat": 4
 },
 "nbformat": 4,
 "nbformat_minor": 2
}
